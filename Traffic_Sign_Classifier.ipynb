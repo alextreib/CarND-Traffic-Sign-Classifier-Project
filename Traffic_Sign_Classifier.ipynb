{
 "cells": [
  {
   "cell_type": "markdown",
   "metadata": {},
   "source": [
    "# Self-Driving Car Engineer Nanodegree\n",
    "\n",
    "## Deep Learning\n",
    "\n",
    "## Project: Build a Traffic Sign Recognition Classifier\n",
    "\n",
    "The aim of this project is to build a classifier with Deep Learning. \n",
    "The input data consists of raw pictures of traffic signs. The pictures need to be preprocessed, the CNN architecture will be defined and the training will also occur here.\n",
    "\n",
    "This ipython file contains everything required to achieve this goal from loading the data to the evaluating the classification.\n",
    "\n",
    "Moreover, you can find a writeup in this repository."
   ]
  },
  {
   "cell_type": "markdown",
   "metadata": {},
   "source": [
    "---\n",
    "## Step 0: Load The Data\n",
    "\n",
    "Loading the given datasets of german traffic signs and splitting it into train, valid and test data.\n",
    "\n",
    "It isn't part of this repository, but can be downloaded here: http://benchmark.ini.rub.de/?section=gtsrb&subsection=dataset"
   ]
  },
  {
   "cell_type": "code",
   "execution_count": 2,
   "metadata": {},
   "outputs": [],
   "source": [
    "# Load pickled data\n",
    "import pickle\n",
    "\n",
    "training_file = '../datasets/traffic-signs-data/train.p'\n",
    "validation_file= '../datasets/traffic-signs-data/valid.p'\n",
    "testing_file = '../datasets/traffic-signs-data/test.p'\n",
    "\n",
    "with open(training_file, mode='rb') as f:\n",
    "    train = pickle.load(f)\n",
    "with open(validation_file, mode='rb') as f:\n",
    "    valid = pickle.load(f)\n",
    "with open(testing_file, mode='rb') as f:\n",
    "    test = pickle.load(f)\n",
    "    \n",
    "X_train, y_train = train['features'], train['labels']\n",
    "X_valid, y_valid = valid['features'], valid['labels']\n",
    "X_test, y_test = test['features'], test['labels']"
   ]
  },
  {
   "cell_type": "markdown",
   "metadata": {},
   "source": [
    "---\n",
    "\n",
    "## Step 1: Dataset Summary & Exploration\n",
    "\n",
    "The pickled data is a dictionary with 4 key/value pairs:\n",
    "\n",
    "- `'features'` is a 4D array containing raw pixel data of the traffic sign images, (num examples, width, height, channels).\n",
    "- `'labels'` is a 1D array containing the label/class id of the traffic sign. The file `signnames.csv` contains id -> name mappings for each id.\n",
    "- `'sizes'` is a list containing tuples, (width, height) representing the original width and height the image.\n",
    "- `'coords'` is a list containing tuples, (x1, y1, x2, y2) representing coordinates of a bounding box around the sign in the image. **THESE COORDINATES ASSUME THE ORIGINAL IMAGE. THE PICKLED DATA CONTAINS RESIZED VERSIONS (32 by 32) OF THESE IMAGES**"
   ]
  },
  {
   "cell_type": "markdown",
   "metadata": {},
   "source": [
    "### Basic Summary of the Data Set Using Python, Numpy and/or Pandas"
   ]
  },
  {
   "cell_type": "code",
   "execution_count": 3,
   "metadata": {},
   "outputs": [
    {
     "name": "stdout",
     "output_type": "stream",
     "text": [
      "Number of training examples = 34799\n",
      "Number of testing examples = 12630\n",
      "Image data shape = (32, 32, 3)\n",
      "Number of classes = 43\n"
     ]
    }
   ],
   "source": [
    "import numpy as np\n",
    "import csv\n",
    "\n",
    "n_train = y_train.size \n",
    "n_validation = y_valid.size\n",
    "n_test = y_test.size\n",
    "image_shape = X_train[0].shape\n",
    "\n",
    "# How many unique classes/labels there are in the dataset.\n",
    "n_classes = np.unique(train['labels']).size\n",
    "\n",
    "print(\"Number of training examples =\", n_train)\n",
    "print(\"Number of testing examples =\", n_test)\n",
    "print(\"Image data shape =\", image_shape)\n",
    "print(\"Number of classes =\", n_classes)"
   ]
  },
  {
   "cell_type": "markdown",
   "metadata": {},
   "source": [
    "### Dataset visualization"
   ]
  },
  {
   "cell_type": "markdown",
   "metadata": {},
   "source": [
    "This section is to show an example output of the training set. Here, you can select the dataset and the imgnumber. \n",
    "\n",
    "The result will be shown below.\n",
    "\n",
    "You can modify section \"Select your image\". There a dataset as well as the img/label number can be specified."
   ]
  },
  {
   "cell_type": "code",
   "execution_count": 4,
   "metadata": {},
   "outputs": [
    {
     "data": {
      "image/png": "[encoded data removed]",
      "text/plain": [
       "<matplotlib.figure.Figure at 0x2b3871b8a58>"
      ]
     },
     "metadata": {},
     "output_type": "display_data"
    },
    {
     "data": {
      "image/png": "[encoded data removed]",
      "text/plain": [
       "<matplotlib.figure.Figure at 0x2b3871b89e8>"
      ]
     },
     "metadata": {},
     "output_type": "display_data"
    }
   ],
   "source": [
    "import matplotlib.pyplot as plt\n",
    "%matplotlib inline\n",
    "\n",
    "def display_img(img, title):\n",
    "    fig, ax = plt.subplots()\n",
    "    ax.imshow(img)\n",
    "    ax.set_title(title)\n",
    "    plt.show()\n",
    "\n",
    "def display_example_label(dataset, label):\n",
    "     # Signname mapping\n",
    "    with open('signnames.csv', mode='r') as csvfile:\n",
    "        reader = csv.reader(csvfile)\n",
    "        signnameDict = {rows[0]:rows[1] for rows in reader}\n",
    "    for imgNumber, it_label in enumerate(dataset['labels']):\n",
    "        if(label==it_label):\n",
    "            display_img(dataset['features'][imgNumber], str(label))\n",
    "            break;\n",
    "\n",
    "def display_img_of_dataset(dataset,imgNumber):\n",
    "    # Signname mapping\n",
    "    with open('signnames.csv', mode='r') as csvfile:\n",
    "        reader = csv.reader(csvfile)\n",
    "        signnameDict = {rows[0]:rows[1] for rows in reader}\n",
    "    image=dataset['features'][imgNumber]\n",
    "    title=signnameDict[str(dataset['labels'][imgNumber])]\n",
    "    display_img(image,title)\n",
    "    \n",
    "# Select your image\n",
    "display_example_label(train,14)\n",
    "display_img_of_dataset(train,14)"
   ]
  },
  {
   "cell_type": "markdown",
   "metadata": {},
   "source": [
    "### Class distribution\n",
    "The following will show the distribution classes over the different datasets. The evaluation is based on the number of the labels. "
   ]
  },
  {
   "cell_type": "code",
   "execution_count": 5,
   "metadata": {},
   "outputs": [
    {
     "data": {
      "image/png": "[encoded data removed]",
      "text/plain": [
       "<matplotlib.figure.Figure at 0x2b387189f60>"
      ]
     },
     "metadata": {},
     "output_type": "display_data"
    }
   ],
   "source": [
    "import matplotlib.pyplot as plt\n",
    "%matplotlib inline\n",
    "\n",
    "#Plot a distribution over the classes\n",
    "#Training\n",
    "plt.subplot(221)\n",
    "plt.title('Training')\n",
    "plt.grid(True)\n",
    "hist, bins = np.histogram(y_train, bins=n_classes)\n",
    "width = 0.7 * (bins[1] - bins[0])\n",
    "center = (bins[:-1] + bins[1:]) / 2\n",
    "plt.bar(center, hist, align='center', width=width)\n",
    "\n",
    "#Validation\n",
    "plt.subplot(222)\n",
    "plt.title('Validation')\n",
    "plt.grid(True)\n",
    "hist, bins = np.histogram(y_valid, bins=n_classes)\n",
    "width = 0.7 * (bins[1] - bins[0])\n",
    "center = (bins[:-1] + bins[1:]) / 2\n",
    "plt.bar(center, hist, align='center', width=width)\n",
    "\n",
    "#Test\n",
    "plt.subplot(223)\n",
    "plt.title('Test')\n",
    "plt.grid(True)\n",
    "hist, bins = np.histogram(y_test, bins=n_classes)\n",
    "width = 0.7 * (bins[1] - bins[0])\n",
    "center = (bins[:-1] + bins[1:]) / 2\n",
    "plt.bar(center, hist, align='center', width=width)\n",
    "\n",
    "plt.subplots_adjust(top=0.92, bottom=0.08, left=0.10, right=0.95, hspace=0.25,\n",
    "                    wspace=0.35)\n",
    "\n",
    "plt.show()"
   ]
  },
  {
   "cell_type": "markdown",
   "metadata": {},
   "source": [
    "----\n",
    "\n",
    "## Step 2: Design and Test a Model Architecture\n",
    "\n",
    "Design and implement a deep learning model that learns to recognize traffic signs. Train and test your model on the [German Traffic Sign Dataset](http://benchmark.ini.rub.de/?section=gtsrb&subsection=dataset).\n",
    "\n",
    "A starting point here is the famous LeNet CNN architecture from Yann LeCunn. But it will be enhanced with the architecture from [this paper](http://yann.lecun.com/exdb/publis/pdf/sermanet-ijcnn-11.pdf). It is promising (and also proven) that the performance of this enhanced LeNet architecture is much higher than a conversative approach.\n",
    "\n",
    "With the LeNet-5 solution from the lecture, a accuracy of about 0.89 is to expect but with the new architecture a accuracy of 0.96 can be achieved."
   ]
  },
  {
   "cell_type": "markdown",
   "metadata": {},
   "source": [
    "### Preprocess the dataset\n",
    "\n",
    "The preprocessing consists of two steps: Grayscale and normalization\n",
    "\n",
    "For image data, `(pixel - 128)/ 128` is a quick way to approximately normalize the data and can be used in this project. "
   ]
  },
  {
   "cell_type": "code",
   "execution_count": 10,
   "metadata": {},
   "outputs": [
    {
     "name": "stdout",
     "output_type": "stream",
     "text": [
      "preprocessing finished\n"
     ]
    }
   ],
   "source": [
    "import numpy as np\n",
    "from sklearn.preprocessing import normalize\n",
    "\n",
    "def preprocess(x_data):\n",
    "    # Grayscale\n",
    "    x_data_gry = np.sum(x_data/3, axis=3, keepdims=True)\n",
    "\n",
    "    # Normalization\n",
    "    x_data = (x_data - 128)/128 \n",
    "    return x_data_gry\n",
    "\n",
    "X_train=preprocess(X_train)\n",
    "X_valid=preprocess(X_valid)\n",
    "\n",
    "# Shuffle is needed\n",
    "from sklearn.utils import shuffle\n",
    "\n",
    "X_train, y_train = shuffle(X_train, y_train)\n",
    "\n",
    "print ('preprocessing finished')"
   ]
  },
  {
   "cell_type": "markdown",
   "metadata": {},
   "source": [
    "### Model Architecture\n",
    "Implementing the paper \"Traffic Sign Recognition with Multi-Scale Convolutional Networks\" (Pierre Sermanet and Yann LeCun).\n",
    "The keypoint is the 2-stage ConvNet architecture. "
   ]
  },
  {
   "cell_type": "code",
   "execution_count": 7,
   "metadata": {},
   "outputs": [
    {
     "name": "stderr",
     "output_type": "stream",
     "text": [
      "C:\\Users\\alext\\AppData\\Local\\conda\\conda\\envs\\carnd1\\lib\\site-packages\\h5py\\__init__.py:36: FutureWarning: Conversion of the second argument of issubdtype from `float` to `np.floating` is deprecated. In future, it will be treated as `np.float64 == np.dtype(float).type`.\n",
      "  from ._conv import register_converters as _register_converters\n"
     ]
    },
    {
     "name": "stdout",
     "output_type": "stream",
     "text": [
      "WARNING:tensorflow:From C:\\Users\\alext\\AppData\\Local\\conda\\conda\\envs\\carnd1\\lib\\site-packages\\tensorflow\\contrib\\learn\\python\\learn\\datasets\\base.py:198: retry (from tensorflow.contrib.learn.python.learn.datasets.base) is deprecated and will be removed in a future version.\n",
      "Instructions for updating:\n",
      "Use the retry module or similar alternatives.\n"
     ]
    }
   ],
   "source": [
    "from tensorflow.contrib.layers import flatten\n",
    "\n",
    "def LeNet(x):    \n",
    "    # Hyperparameters\n",
    "    mu = 0\n",
    "    sigma = 0.1\n",
    "        \n",
    "    # Layer 1: Convolutional. Input = 32x32x1. Output = 28x28x6.\n",
    "    W1 = tf.Variable(tf.truncated_normal(shape=(5, 5, 1, 6), mean = mu, stddev = sigma), name=\"W1\")\n",
    "    b1 = tf.Variable(tf.zeros(6), name=\"b1\")\n",
    "\n",
    "    x = tf.nn.conv2d(x, W1, strides=[1, 1, 1, 1], padding='VALID')\n",
    "    x = tf.nn.bias_add(x, b1)\n",
    "    x = tf.nn.relu(x)\n",
    "    \n",
    "    # Pooling. Input = 28x28x6. Output = 14x14x6.\n",
    "    x = tf.nn.max_pool(x, ksize=[1, 2, 2, 1], strides=[1, 2, 2, 1], padding='VALID')\n",
    "    \n",
    "    # Layer 2: Convolutional. Output = 10x10x16.\n",
    "    W2 = tf.Variable(tf.truncated_normal(shape=(5, 5, 6, 16), mean = mu, stddev = sigma), name=\"W2\")\n",
    "    b2 = tf.Variable(tf.zeros(16), name=\"b2\")\n",
    "\n",
    "    x = tf.nn.conv2d(x, W2, strides=[1, 1, 1, 1], padding='VALID')\n",
    "    x = tf.nn.bias_add(x, b2)\n",
    "    x = tf.nn.relu(x)\n",
    "\n",
    "    # Pooling. Input = 10x10x16. Output = 5x5x16.\n",
    "    x = tf.nn.max_pool(x, ksize=[1, 2, 2, 1], strides=[1, 2, 2, 1], padding='VALID')\n",
    "    layer2 = x # Saving it for later\n",
    "    \n",
    "    # Layer 3: Convolutional. Output = 1x1x400.\n",
    "    W3 = tf.Variable(tf.truncated_normal(shape=(5, 5, 16, 400), mean = mu, stddev = sigma), name=\"W3\")\n",
    "    b3 = tf.Variable(tf.zeros(400), name=\"b3\")\n",
    "\n",
    "    x = tf.nn.conv2d(x, W3, strides=[1, 1, 1, 1], padding='VALID')\n",
    "    x = tf.nn.bias_add(x, b3)\n",
    "    x = tf.nn.relu(x)\n",
    "    layer3 = x # Saving it for later\n",
    "\n",
    "    # Flatten. Input = 5x5x16. Output = 400.\n",
    "    layer2flat = flatten(layer2)\n",
    "    \n",
    "    # Flatten x. Input = 1x1x400. Output = 400.\n",
    "    layer3flat = flatten(layer3)\n",
    "    \n",
    "    # Concat layer2flat and x. Input = 400 + 400. Output = 800\n",
    "    x = tf.concat([layer3flat, layer2flat], 1)\n",
    "    \n",
    "    # Dropout\n",
    "    x = tf.nn.dropout(x, keep_prob)\n",
    "    \n",
    "    # Layer 4: Fully Connected. Input = 800. Output = 120.\n",
    "    W4 = tf.Variable(tf.truncated_normal(shape=(800, 120), mean = mu, stddev = sigma), name=\"W4\")\n",
    "    b4 = tf.Variable(tf.zeros(120), name=\"b4\")    \n",
    "    x = tf.add(tf.matmul(x, W4), b4)\n",
    "    x = tf.nn.relu(x)\n",
    "\n",
    "    # Layer 5: Fully Connected. Input = 120. Output = 84.\n",
    "    W5 = tf.Variable(tf.truncated_normal(shape=(120, 84), mean = mu, stddev = sigma))\n",
    "    b5 = tf.Variable(tf.zeros(84)) \n",
    "    x = tf.add(tf.matmul(x, W5), b5)\n",
    "    x = tf.nn.relu(x)\n",
    "\n",
    "    # Layer 6: Fully Connected. Input = 84. Output = 43.\n",
    "    W6 = tf.Variable(tf.truncated_normal(shape=(84, 43), mean = mu, stddev = sigma))\n",
    "    b6 = tf.Variable(tf.zeros(43)) \n",
    "    x = tf.add(tf.matmul(x, W6), b6)\n",
    "    \n",
    "    return x"
   ]
  },
  {
   "cell_type": "markdown",
   "metadata": {},
   "source": [
    "### Train, Validate and Test the Model"
   ]
  },
  {
   "cell_type": "markdown",
   "metadata": {},
   "source": [
    "This part trains the CNN based on the training data and validate the trained classifier with the validation dataset.\n",
    "\n",
    "Here, the performance of the CNN architecture can be evaluated. \n",
    "\n",
    "Finally, the trained model is saved and can be used for further processes."
   ]
  },
  {
   "cell_type": "code",
   "execution_count": 8,
   "metadata": {},
   "outputs": [
    {
     "name": "stdout",
     "output_type": "stream",
     "text": [
      "WARNING:tensorflow:From <ipython-input-8-27998f328996>:14: softmax_cross_entropy_with_logits (from tensorflow.python.ops.nn_ops) is deprecated and will be removed in a future version.\n",
      "Instructions for updating:\n",
      "\n",
      "Future major versions of TensorFlow will allow gradients to flow\n",
      "into the labels input on backprop by default.\n",
      "\n",
      "See tf.nn.softmax_cross_entropy_with_logits_v2.\n",
      "\n",
      "Training...\n",
      "\n",
      "EPOCH 1 ...\n",
      "Validation Accuracy = 0.055\n",
      "\n",
      "EPOCH 2 ...\n",
      "Validation Accuracy = 0.049\n",
      "\n",
      "EPOCH 3 ...\n",
      "Validation Accuracy = 0.073\n",
      "\n",
      "EPOCH 4 ...\n",
      "Validation Accuracy = 0.056\n",
      "\n",
      "EPOCH 5 ...\n",
      "Validation Accuracy = 0.155\n",
      "\n",
      "EPOCH 6 ...\n",
      "Validation Accuracy = 0.309\n",
      "\n",
      "EPOCH 7 ...\n",
      "Validation Accuracy = 0.407\n",
      "\n",
      "EPOCH 8 ...\n",
      "Validation Accuracy = 0.577\n",
      "\n",
      "EPOCH 9 ...\n",
      "Validation Accuracy = 0.642\n",
      "\n",
      "EPOCH 10 ...\n",
      "Validation Accuracy = 0.720\n",
      "\n",
      "EPOCH 11 ...\n",
      "Validation Accuracy = 0.759\n",
      "\n",
      "EPOCH 12 ...\n",
      "Validation Accuracy = 0.774\n",
      "\n",
      "EPOCH 13 ...\n",
      "Validation Accuracy = 0.812\n",
      "\n",
      "EPOCH 14 ...\n",
      "Validation Accuracy = 0.854\n",
      "\n",
      "EPOCH 15 ...\n",
      "Validation Accuracy = 0.849\n",
      "\n",
      "EPOCH 16 ...\n",
      "Validation Accuracy = 0.850\n",
      "\n",
      "EPOCH 17 ...\n",
      "Validation Accuracy = 0.882\n",
      "\n",
      "EPOCH 18 ...\n",
      "Validation Accuracy = 0.894\n",
      "\n",
      "EPOCH 19 ...\n",
      "Validation Accuracy = 0.903\n",
      "\n",
      "EPOCH 20 ...\n",
      "Validation Accuracy = 0.915\n",
      "\n",
      "EPOCH 21 ...\n",
      "Validation Accuracy = 0.925\n",
      "\n",
      "EPOCH 22 ...\n",
      "Validation Accuracy = 0.924\n",
      "\n",
      "EPOCH 23 ...\n",
      "Validation Accuracy = 0.933\n",
      "\n",
      "EPOCH 24 ...\n",
      "Validation Accuracy = 0.940\n",
      "\n",
      "EPOCH 25 ...\n",
      "Validation Accuracy = 0.928\n",
      "\n",
      "EPOCH 26 ...\n",
      "Validation Accuracy = 0.925\n",
      "\n",
      "EPOCH 27 ...\n",
      "Validation Accuracy = 0.933\n",
      "\n",
      "EPOCH 28 ...\n",
      "Validation Accuracy = 0.933\n",
      "\n",
      "EPOCH 29 ...\n",
      "Validation Accuracy = 0.933\n",
      "\n",
      "EPOCH 30 ...\n",
      "Validation Accuracy = 0.941\n",
      "\n",
      "EPOCH 31 ...\n",
      "Validation Accuracy = 0.934\n",
      "\n",
      "EPOCH 32 ...\n",
      "Validation Accuracy = 0.946\n",
      "\n",
      "EPOCH 33 ...\n",
      "Validation Accuracy = 0.937\n",
      "\n",
      "EPOCH 34 ...\n",
      "Validation Accuracy = 0.950\n",
      "\n",
      "EPOCH 35 ...\n",
      "Validation Accuracy = 0.948\n",
      "\n",
      "EPOCH 36 ...\n",
      "Validation Accuracy = 0.949\n",
      "\n",
      "EPOCH 37 ...\n",
      "Validation Accuracy = 0.959\n",
      "\n",
      "EPOCH 38 ...\n",
      "Validation Accuracy = 0.941\n",
      "\n",
      "EPOCH 39 ...\n",
      "Validation Accuracy = 0.949\n",
      "\n",
      "EPOCH 40 ...\n",
      "Validation Accuracy = 0.960\n",
      "\n",
      "Model saved\n"
     ]
    }
   ],
   "source": [
    "import tensorflow as tf\n",
    "from sklearn.utils import shuffle\n",
    "\n",
    "EPOCHS = 40\n",
    "BATCH_SIZE = 128\n",
    "\n",
    "keep_prob = tf.placeholder(tf.float32) # probability to keep units\n",
    "x = tf.placeholder(tf.float32, (None, 32, 32, 1))\n",
    "y = tf.placeholder(tf.int32, (None))\n",
    "one_hot_y = tf.one_hot(y, 43)\n",
    "\n",
    "rate = 0.001\n",
    "\n",
    "logits = LeNet(x)\n",
    "cross_entropy = tf.nn.softmax_cross_entropy_with_logits(labels=one_hot_y, logits=logits)\n",
    "loss_operation = tf.reduce_mean(cross_entropy)\n",
    "optimizer = tf.train.AdamOptimizer(learning_rate = rate)\n",
    "training_operation = optimizer.minimize(loss_operation)\n",
    "\n",
    "# Model Evaluation\n",
    "correct_prediction = tf.equal(tf.argmax(logits, 1), tf.argmax(one_hot_y, 1))\n",
    "accuracy_operation = tf.reduce_mean(tf.cast(correct_prediction, tf.float32))\n",
    "saver = tf.train.Saver()\n",
    "\n",
    "def evaluate(X_data, y_data):\n",
    "    num_examples = len(X_data)\n",
    "    total_accuracy = 0\n",
    "    sess = tf.get_default_session()\n",
    "    for offset in range(0, num_examples, BATCH_SIZE):\n",
    "        batch_x, batch_y = X_data[offset:offset+BATCH_SIZE], y_data[offset:offset+BATCH_SIZE]\n",
    "        accuracy = sess.run(accuracy_operation, feed_dict={x: batch_x, y: batch_y, keep_prob: 1.0})\n",
    "        total_accuracy += (accuracy * len(batch_x))\n",
    "    return total_accuracy / num_examples\n",
    "\n",
    "saver = tf.train.Saver()\n",
    "\n",
    "# Train the Model\n",
    "with tf.Session() as sess:\n",
    "    sess.run(tf.global_variables_initializer())\n",
    "    num_examples = len(X_train)\n",
    "    \n",
    "    print(\"Training...\")\n",
    "    print()\n",
    "    for i in range(EPOCHS):\n",
    "        X_train, y_train = shuffle(X_train, y_train)\n",
    "        for offset in range(0, num_examples, BATCH_SIZE):\n",
    "            end = offset + BATCH_SIZE\n",
    "            batch_x, batch_y = X_train[offset:end], y_train[offset:end]\n",
    "            sess.run(training_operation, feed_dict={x: batch_x, y: batch_y,keep_prob: 0.2})\n",
    "            \n",
    "        validation_accuracy = evaluate(X_valid, y_valid)\n",
    "        print(\"EPOCH {} ...\".format(i+1))\n",
    "        print(\"Validation Accuracy = {:.3f}\".format(validation_accuracy))\n",
    "        print()\n",
    "\n",
    "    saver.save(sess, './lenet')\n",
    "    print(\"Model saved\")"
   ]
  },
  {
   "cell_type": "markdown",
   "metadata": {},
   "source": [
    "---\n",
    "\n",
    "## Step 3: Test a Model on New Images\n",
    "\n",
    "In order to test the trained model, images from German traffic signs are downloaded partially from the real world and partially in the perfect shape (paint).\n",
    "\n",
    "First, these images need to be resized that the classifier can handle them and then the prediction is compared with the ground truth (labelDict)."
   ]
  },
  {
   "cell_type": "markdown",
   "metadata": {},
   "source": [
    "### Load and Preprocess Test images"
   ]
  },
  {
   "cell_type": "code",
   "execution_count": 11,
   "metadata": {
    "scrolled": true
   },
   "outputs": [
    {
     "name": "stdout",
     "output_type": "stream",
     "text": [
      "Test image preprocessing done\n"
     ]
    }
   ],
   "source": [
    "from PIL import Image\n",
    "import glob\n",
    "import os\n",
    "from sklearn.metrics import accuracy_score\n",
    "\n",
    "# Read in the file in the test_images folder\n",
    "fileList=glob.glob(\"./test_images/*.jpg\")\n",
    "\n",
    "# Ground truth mapping\n",
    "labelDict={}\n",
    "labelDict['30.jpg']=1\n",
    "labelDict['50.jpg']=2\n",
    "labelDict['70.jpg']=4\n",
    "labelDict['end_of_speedlimit.jpg']=32\n",
    "labelDict['no_entry.jpg']=17\n",
    "labelDict['priority_road.jpg']=12\n",
    "labelDict['stop.jpg']=14\n",
    "labelDict['yield.jpg']=13\n",
    "\n",
    "# Resize the image to the size of the training data\n",
    "def resizeimg(img):\n",
    "    new_img = img.resize((32,32))\n",
    "    new_img=np.asarray(new_img)\n",
    "    return new_img\n",
    "\n",
    "# Preprocess the test_images\n",
    "X_testNew=[]\n",
    "for imgfile in fileList:\n",
    "    X_testNew.append(resizeimg(Image.open(imgfile)))\n",
    "X_testNew=preprocess(np.array(X_testNew))\n",
    "\n",
    "print (\"Test image preprocessing done\")"
   ]
  },
  {
   "cell_type": "markdown",
   "metadata": {},
   "source": [
    "### Predict the Sign Type for Each Image\n",
    "\n",
    "Here, the trained classifier from above will be loaded and classify the provided internet test images.\n",
    "\n",
    "The probability and the label of the five most likely predictions for each image is saved in Top5predicted."
   ]
  },
  {
   "cell_type": "code",
   "execution_count": 27,
   "metadata": {},
   "outputs": [
    {
     "name": "stdout",
     "output_type": "stream",
     "text": [
      "INFO:tensorflow:Restoring parameters from .\\lenet\n"
     ]
    }
   ],
   "source": [
    "with tf.Session() as sess:\n",
    "    saver.restore(sess, tf.train.latest_checkpoint('.'))\n",
    "    \n",
    "    # Highest prediction\n",
    "    prediction=tf.argmax(logits,1)\n",
    "    predictionResult=(prediction.eval(feed_dict={x: X_testNew, keep_prob: 1}))\n",
    "\n",
    "    # Top 5 probabilities\n",
    "    proba=tf.nn.softmax(logits)\n",
    "    probaList=proba.eval(feed_dict={x: X_testNew, keep_prob: 1})\n",
    "    TopK = tf.nn.top_k(probaList, 5)\n",
    "    Top5predicted=sess.run(TopK)"
   ]
  },
  {
   "cell_type": "markdown",
   "metadata": {},
   "source": [
    "### Analyze Performance\n",
    "\n",
    "Based on the prediction from the previous section, the performance will be evaluated.\n",
    "\n",
    "You can see that there is a correlation between the uncertainty of the classificator and the potential for wrong predictions."
   ]
  },
  {
   "cell_type": "code",
   "execution_count": 28,
   "metadata": {},
   "outputs": [
    {
     "name": "stdout",
     "output_type": "stream",
     "text": [
      "\n",
      "\n",
      "File: 30.jpg\n",
      "Ground truth:1\n",
      "Prediction:1\n",
      "Top5 predicted labels:[ 1  0 40  2 11]\n",
      "Top5 probabilities:[9.9375689e-01 6.2420331e-03 4.8484281e-07 2.9142035e-07 1.7845628e-07]\n",
      "\n",
      "\n",
      "File: 50.jpg\n",
      "Ground truth:2\n",
      "Prediction:1\n",
      "Top5 predicted labels:[ 1  2 14  3  4]\n",
      "Top5 probabilities:[9.9007320e-01 9.8337596e-03 4.0987539e-05 1.6931805e-05 1.6894724e-05]\n",
      "\n",
      "\n",
      "File: 70.jpg\n",
      "Ground truth:4\n",
      "Prediction:0\n",
      "Top5 predicted labels:[ 0  4  1 37 40]\n",
      "Top5 probabilities:[9.7510296e-01 2.2235917e-02 2.1429667e-03 5.1701482e-04 1.0233765e-06]\n",
      "\n",
      "\n",
      "File: end_of_speedlimit.jpg\n",
      "Ground truth:32\n",
      "Prediction:1\n",
      "Top5 predicted labels:[ 1  0 40 32 12]\n",
      "Top5 probabilities:[9.7686827e-01 1.8583670e-02 2.0801176e-03 1.3870742e-03 4.7876406e-04]\n",
      "\n",
      "\n",
      "File: no_entry.jpg\n",
      "Ground truth:17\n",
      "Prediction:17\n",
      "Top5 predicted labels:[17 40 33 12 14]\n",
      "Top5 probabilities:[1.00000000e+00 9.32692463e-17 1.08299345e-19 3.77302991e-20\n",
      " 2.30514024e-20]\n",
      "\n",
      "\n",
      "File: priority_road.jpg\n",
      "Ground truth:12\n",
      "Prediction:12\n",
      "Top5 predicted labels:[12 13 40 35 14]\n",
      "Top5 probabilities:[9.9999940e-01 5.5126958e-07 1.2767509e-09 1.5845228e-10 4.6952698e-12]\n",
      "\n",
      "\n",
      "File: stop.jpg\n",
      "Ground truth:14\n",
      "Prediction:14\n",
      "Top5 predicted labels:[14 40 18  1  3]\n",
      "Top5 probabilities:[9.9999762e-01 1.5799662e-06 7.2076244e-07 3.2233057e-08 2.2945551e-08]\n",
      "\n",
      "\n",
      "File: yield.jpg\n",
      "Ground truth:13\n",
      "Prediction:13\n",
      "Top5 predicted labels:[13 35 15  9 36]\n",
      "Top5 probabilities:[1.0000000e+00 1.2937848e-23 1.1181647e-26 1.0164043e-27 8.1745728e-30]\n",
      "\n",
      "\n",
      "Total accuracy: 0.625\n"
     ]
    }
   ],
   "source": [
    "# Evaluation of the predictions\n",
    "groundtruth=[]\n",
    "for i, file in enumerate(fileList):\n",
    "    print (\"\\n\")\n",
    "    print (\"File: \" + os.path.basename(file))\n",
    "    print (\"Ground truth:\" + str(labelDict[os.path.basename(file)]))\n",
    "    groundtruth.append(labelDict[os.path.basename(file)])\n",
    "    print (\"Prediction:\" + str(predictionResult[i]))\n",
    "    print (\"Top5 predicted labels:\" + str(Top5predicted.indices[i]))\n",
    "    print (\"Top5 probabilities:\" + str(Top5predicted.values[i]))\n",
    "\n",
    "# Total accuracy\n",
    "print (\"\\n\")\n",
    "print (\"Total accuracy: \" + str(accuracy_score(groundtruth, predictionResult)))"
   ]
  }
 ],
 "metadata": {
  "anaconda-cloud": {},
  "kernelspec": {
   "display_name": "Python 3",
   "language": "python",
   "name": "python3"
  },
  "language_info": {
   "codemirror_mode": {
    "name": "ipython",
    "version": 3
   },
   "file_extension": ".py",
   "mimetype": "text/x-python",
   "name": "python",
   "nbconvert_exporter": "python",
   "pygments_lexer": "ipython3",
   "version": "3.5.2"
  },
  "widgets": {
   "state": {},
   "version": "1.1.2"
  }
 },
 "nbformat": 4,
 "nbformat_minor": 1
}
